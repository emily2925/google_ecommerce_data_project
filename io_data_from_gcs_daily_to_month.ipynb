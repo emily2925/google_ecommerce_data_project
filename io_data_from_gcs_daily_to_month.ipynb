{
  "nbformat": 4,
  "nbformat_minor": 0,
  "metadata": {
    "colab": {
      "name": "io_data_from_gcs_daily_to_month.ipynb",
      "provenance": [],
      "collapsed_sections": [],
      "authorship_tag": "ABX9TyOKzAPcomXukKsCmFkHsL9g",
      "include_colab_link": true
    },
    "kernelspec": {
      "name": "python3",
      "display_name": "Python 3"
    },
    "language_info": {
      "name": "python"
    }
  },
  "cells": [
    {
      "cell_type": "markdown",
      "metadata": {
        "id": "view-in-github",
        "colab_type": "text"
      },
      "source": [
        "<a href=\"https://colab.research.google.com/github/emily2925/google_ecommerce_data_project/blob/main/io_data_from_gcs_daily_to_month.ipynb\" target=\"_parent\"><img src=\"https://colab.research.google.com/assets/colab-badge.svg\" alt=\"Open In Colab\"/></a>"
      ]
    },
    {
      "cell_type": "code",
      "source": [
        "! pip install fsspec"
      ],
      "metadata": {
        "colab": {
          "base_uri": "https://localhost:8080/"
        },
        "id": "dSGdIOX-Q4y2",
        "outputId": "6cbc15fe-42ff-487c-a0df-e1438ea9092c"
      },
      "execution_count": 8,
      "outputs": [
        {
          "output_type": "stream",
          "name": "stdout",
          "text": [
            "Collecting fsspec\n",
            "  Downloading fsspec-2022.5.0-py3-none-any.whl (140 kB)\n",
            "\u001b[?25l\r\u001b[K     |██▎                             | 10 kB 20.4 MB/s eta 0:00:01\r\u001b[K     |████▋                           | 20 kB 22.1 MB/s eta 0:00:01\r\u001b[K     |███████                         | 30 kB 24.3 MB/s eta 0:00:01\r\u001b[K     |█████████▎                      | 40 kB 12.9 MB/s eta 0:00:01\r\u001b[K     |███████████▋                    | 51 kB 11.3 MB/s eta 0:00:01\r\u001b[K     |██████████████                  | 61 kB 12.9 MB/s eta 0:00:01\r\u001b[K     |████████████████▎               | 71 kB 12.6 MB/s eta 0:00:01\r\u001b[K     |██████████████████▋             | 81 kB 12.7 MB/s eta 0:00:01\r\u001b[K     |█████████████████████           | 92 kB 11.4 MB/s eta 0:00:01\r\u001b[K     |███████████████████████▎        | 102 kB 12.3 MB/s eta 0:00:01\r\u001b[K     |█████████████████████████▋      | 112 kB 12.3 MB/s eta 0:00:01\r\u001b[K     |████████████████████████████    | 122 kB 12.3 MB/s eta 0:00:01\r\u001b[K     |██████████████████████████████▎ | 133 kB 12.3 MB/s eta 0:00:01\r\u001b[K     |████████████████████████████████| 140 kB 12.3 MB/s \n",
            "\u001b[?25hInstalling collected packages: fsspec\n",
            "Successfully installed fsspec-2022.5.0\n"
          ]
        }
      ]
    },
    {
      "cell_type": "code",
      "source": [
        "! pip install gcsfs"
      ],
      "metadata": {
        "colab": {
          "base_uri": "https://localhost:8080/"
        },
        "id": "kHaC49b_Q_h4",
        "outputId": "7b7d3027-c589-419e-e62a-59e10c638e2d"
      },
      "execution_count": 10,
      "outputs": [
        {
          "output_type": "stream",
          "name": "stdout",
          "text": [
            "Collecting gcsfs\n",
            "  Downloading gcsfs-2022.5.0-py2.py3-none-any.whl (25 kB)\n",
            "Requirement already satisfied: google-auth>=1.2 in /usr/local/lib/python3.7/dist-packages (from gcsfs) (1.35.0)\n",
            "Requirement already satisfied: fsspec==2022.5.0 in /usr/local/lib/python3.7/dist-packages (from gcsfs) (2022.5.0)\n",
            "Requirement already satisfied: requests in /usr/local/lib/python3.7/dist-packages (from gcsfs) (2.23.0)\n",
            "Requirement already satisfied: decorator>4.1.2 in /usr/local/lib/python3.7/dist-packages (from gcsfs) (4.4.2)\n",
            "Requirement already satisfied: google-cloud-storage in /usr/local/lib/python3.7/dist-packages (from gcsfs) (1.18.1)\n",
            "Collecting aiohttp<4\n",
            "  Downloading aiohttp-3.8.1-cp37-cp37m-manylinux_2_5_x86_64.manylinux1_x86_64.manylinux_2_12_x86_64.manylinux2010_x86_64.whl (1.1 MB)\n",
            "\u001b[K     |████████████████████████████████| 1.1 MB 20.3 MB/s \n",
            "\u001b[?25hRequirement already satisfied: google-auth-oauthlib in /usr/local/lib/python3.7/dist-packages (from gcsfs) (0.4.6)\n",
            "Requirement already satisfied: charset-normalizer<3.0,>=2.0 in /usr/local/lib/python3.7/dist-packages (from aiohttp<4->gcsfs) (2.0.12)\n",
            "Collecting aiosignal>=1.1.2\n",
            "  Downloading aiosignal-1.2.0-py3-none-any.whl (8.2 kB)\n",
            "Collecting asynctest==0.13.0\n",
            "  Downloading asynctest-0.13.0-py3-none-any.whl (26 kB)\n",
            "Collecting yarl<2.0,>=1.0\n",
            "  Downloading yarl-1.7.2-cp37-cp37m-manylinux_2_5_x86_64.manylinux1_x86_64.manylinux_2_12_x86_64.manylinux2010_x86_64.whl (271 kB)\n",
            "\u001b[K     |████████████████████████████████| 271 kB 61.0 MB/s \n",
            "\u001b[?25hCollecting async-timeout<5.0,>=4.0.0a3\n",
            "  Downloading async_timeout-4.0.2-py3-none-any.whl (5.8 kB)\n",
            "Collecting frozenlist>=1.1.1\n",
            "  Downloading frozenlist-1.3.0-cp37-cp37m-manylinux_2_5_x86_64.manylinux1_x86_64.manylinux_2_17_x86_64.manylinux2014_x86_64.whl (144 kB)\n",
            "\u001b[K     |████████████████████████████████| 144 kB 55.7 MB/s \n",
            "\u001b[?25hRequirement already satisfied: attrs>=17.3.0 in /usr/local/lib/python3.7/dist-packages (from aiohttp<4->gcsfs) (21.4.0)\n",
            "Collecting multidict<7.0,>=4.5\n",
            "  Downloading multidict-6.0.2-cp37-cp37m-manylinux_2_17_x86_64.manylinux2014_x86_64.whl (94 kB)\n",
            "\u001b[K     |████████████████████████████████| 94 kB 4.2 MB/s \n",
            "\u001b[?25hRequirement already satisfied: typing-extensions>=3.7.4 in /usr/local/lib/python3.7/dist-packages (from aiohttp<4->gcsfs) (4.2.0)\n",
            "Requirement already satisfied: setuptools>=40.3.0 in /usr/local/lib/python3.7/dist-packages (from google-auth>=1.2->gcsfs) (57.4.0)\n",
            "Requirement already satisfied: pyasn1-modules>=0.2.1 in /usr/local/lib/python3.7/dist-packages (from google-auth>=1.2->gcsfs) (0.2.8)\n",
            "Requirement already satisfied: six>=1.9.0 in /usr/local/lib/python3.7/dist-packages (from google-auth>=1.2->gcsfs) (1.15.0)\n",
            "Requirement already satisfied: cachetools<5.0,>=2.0.0 in /usr/local/lib/python3.7/dist-packages (from google-auth>=1.2->gcsfs) (4.2.4)\n",
            "Requirement already satisfied: rsa<5,>=3.1.4 in /usr/local/lib/python3.7/dist-packages (from google-auth>=1.2->gcsfs) (4.8)\n",
            "Requirement already satisfied: pyasn1<0.5.0,>=0.4.6 in /usr/local/lib/python3.7/dist-packages (from pyasn1-modules>=0.2.1->google-auth>=1.2->gcsfs) (0.4.8)\n",
            "Requirement already satisfied: idna>=2.0 in /usr/local/lib/python3.7/dist-packages (from yarl<2.0,>=1.0->aiohttp<4->gcsfs) (2.10)\n",
            "Requirement already satisfied: requests-oauthlib>=0.7.0 in /usr/local/lib/python3.7/dist-packages (from google-auth-oauthlib->gcsfs) (1.3.1)\n",
            "Requirement already satisfied: oauthlib>=3.0.0 in /usr/local/lib/python3.7/dist-packages (from requests-oauthlib>=0.7.0->google-auth-oauthlib->gcsfs) (3.2.0)\n",
            "Requirement already satisfied: chardet<4,>=3.0.2 in /usr/local/lib/python3.7/dist-packages (from requests->gcsfs) (3.0.4)\n",
            "Requirement already satisfied: urllib3!=1.25.0,!=1.25.1,<1.26,>=1.21.1 in /usr/local/lib/python3.7/dist-packages (from requests->gcsfs) (1.24.3)\n",
            "Requirement already satisfied: certifi>=2017.4.17 in /usr/local/lib/python3.7/dist-packages (from requests->gcsfs) (2021.10.8)\n",
            "Requirement already satisfied: google-cloud-core<2.0dev,>=1.0.0 in /usr/local/lib/python3.7/dist-packages (from google-cloud-storage->gcsfs) (1.0.3)\n",
            "Requirement already satisfied: google-resumable-media<0.5.0dev,>=0.3.1 in /usr/local/lib/python3.7/dist-packages (from google-cloud-storage->gcsfs) (0.4.1)\n",
            "Requirement already satisfied: google-api-core<2.0.0dev,>=1.14.0 in /usr/local/lib/python3.7/dist-packages (from google-cloud-core<2.0dev,>=1.0.0->google-cloud-storage->gcsfs) (1.31.5)\n",
            "Requirement already satisfied: packaging>=14.3 in /usr/local/lib/python3.7/dist-packages (from google-api-core<2.0.0dev,>=1.14.0->google-cloud-core<2.0dev,>=1.0.0->google-cloud-storage->gcsfs) (21.3)\n",
            "Requirement already satisfied: protobuf>=3.12.0 in /usr/local/lib/python3.7/dist-packages (from google-api-core<2.0.0dev,>=1.14.0->google-cloud-core<2.0dev,>=1.0.0->google-cloud-storage->gcsfs) (3.17.3)\n",
            "Requirement already satisfied: pytz in /usr/local/lib/python3.7/dist-packages (from google-api-core<2.0.0dev,>=1.14.0->google-cloud-core<2.0dev,>=1.0.0->google-cloud-storage->gcsfs) (2022.1)\n",
            "Requirement already satisfied: googleapis-common-protos<2.0dev,>=1.6.0 in /usr/local/lib/python3.7/dist-packages (from google-api-core<2.0.0dev,>=1.14.0->google-cloud-core<2.0dev,>=1.0.0->google-cloud-storage->gcsfs) (1.56.1)\n",
            "Requirement already satisfied: pyparsing!=3.0.5,>=2.0.2 in /usr/local/lib/python3.7/dist-packages (from packaging>=14.3->google-api-core<2.0.0dev,>=1.14.0->google-cloud-core<2.0dev,>=1.0.0->google-cloud-storage->gcsfs) (3.0.9)\n",
            "Installing collected packages: multidict, frozenlist, yarl, asynctest, async-timeout, aiosignal, aiohttp, gcsfs\n",
            "Successfully installed aiohttp-3.8.1 aiosignal-1.2.0 async-timeout-4.0.2 asynctest-0.13.0 frozenlist-1.3.0 gcsfs-2022.5.0 multidict-6.0.2 yarl-1.7.2\n"
          ]
        }
      ]
    },
    {
      "cell_type": "code",
      "source": [
        "from google.colab import auth\n",
        "auth.authenticate_user()"
      ],
      "metadata": {
        "id": "lg8eLIB-_EPD"
      },
      "execution_count": 1,
      "outputs": []
    },
    {
      "cell_type": "code",
      "source": [
        "import pandas as pd\n",
        "from google.colab import files\n",
        "from google.cloud import storage"
      ],
      "metadata": {
        "id": "G8F9A2Qm_Yak"
      },
      "execution_count": 2,
      "outputs": []
    },
    {
      "cell_type": "code",
      "source": [
        "# df = pd.read_csv('gs://line_project_2022/google_comm_data.csv')"
      ],
      "metadata": {
        "id": "4PiGmq3O_XQZ"
      },
      "execution_count": null,
      "outputs": []
    },
    {
      "cell_type": "code",
      "source": [
        "# day = [f'\"2020110{str(i+1)}\"' if i+1<10 else f'\"202011{str(i+1)}\"' for i in range(30)] + \\\n",
        "#   [f'\"2020120{str(i+1)}\"' if i+1<10 else f'\"202012{str(i+1)}\"' for i in range(31)] + \\\n",
        "#   [f'\"2021010{str(i+1)}\"' if i+1<10 else f'\"202101{str(i+1)}\"' for i in range(31)]"
      ],
      "metadata": {
        "id": "cX-ccCpqh_n1"
      },
      "execution_count": null,
      "outputs": []
    },
    {
      "cell_type": "code",
      "source": [
        "day_nov = [f\"2020110{str(i+1)}\" if i+1<10 else f\"202011{str(i+1)}\" for i in range(30)]\n",
        "day_dec = [f\"2020120{str(i+1)}\" if i+1<10 else f\"202012{str(i+1)}\" for i in range(31)]\n",
        "day_jan = [f\"2021010{str(i+1)}\" if i+1<10 else f\"202101{str(i+1)}\" for i in range(31)]"
      ],
      "metadata": {
        "id": "YNRWFcUtiG6_"
      },
      "execution_count": 3,
      "outputs": []
    },
    {
      "cell_type": "code",
      "source": [
        "# def read_upload_blob(month, bucket_name, source_file_name, destination_blob_name):"
      ],
      "metadata": {
        "id": "JzVao8qFks58"
      },
      "execution_count": null,
      "outputs": []
    },
    {
      "cell_type": "code",
      "source": [
        "def read_blob(month):\n",
        "    \"\"\"Read a certain month file, and concat.\"\"\"\n",
        "    df = pd.DataFrame()\n",
        "    if month == 11:\n",
        "      for d in day_nov:\n",
        "        print(f\"開始讀{d}的檔案\")\n",
        "        df_temp = pd.read_csv(f\"gs://line_project_2022/google_ecom_data_renew_{d}.csv\")\n",
        "        df = pd.concat([df, df_temp])\n",
        "        print(f\"目前{month}月資料量有{df.shape[0]}筆\")\n",
        "    elif month == 12:\n",
        "      for d in day_dec:\n",
        "        print(f\"開始讀{d}的檔案\")\n",
        "        df_temp = pd.read_csv(f\"gs://line_project_2022/google_ecom_data_renew_{d}.csv\")\n",
        "        df = pd.concat([df, df_temp])\n",
        "        print(f\"目前{month}月資料量有{df.shape[0]}筆\")\n",
        "    elif month == 1:\n",
        "      for d in day_nov:\n",
        "        print(f\"開始讀{d}的檔案\")\n",
        "        df_temp = pd.read_csv(f\"gs://line_project_2022/google_ecom_data_renew_{d}.csv\")\n",
        "        df = pd.concat([df, df_temp])\n",
        "        print(f\"目前{month}月資料量有{df.shape[0]}筆\") \n",
        "    else:\n",
        "      print(\"沒事\")\n",
        "    return df"
      ],
      "metadata": {
        "id": "Eizr7K2ceERb"
      },
      "execution_count": 4,
      "outputs": []
    },
    {
      "cell_type": "code",
      "source": [
        "def upload_blob(bucket_name, source_file_name, destination_blob_name):\n",
        "    \"\"\"Uploads a file to the bucket.\"\"\"\n",
        "    # bucket_name = \"your-bucket-name\"\n",
        "    # source_file_name = \"local/path/to/file\"\n",
        "    # destination_blob_name = \"storage-object-name\"\n",
        "\n",
        "    storage_client = storage.Client()\n",
        "    bucket = storage_client.bucket(bucket_name)\n",
        "    blob = bucket.blob(destination_blob_name)\n",
        "\n",
        "    blob.upload_from_filename(source_file_name, content_type=\"text/plain\")\n",
        "\n",
        "    print(\n",
        "        \"File {} uploaded to {}.\".format(\n",
        "            source_file_name, destination_blob_name\n",
        "        )\n",
        "    )"
      ],
      "metadata": {
        "id": "M8OpYfoHnvvN"
      },
      "execution_count": 5,
      "outputs": []
    },
    {
      "cell_type": "code",
      "source": [
        "def output_data(df):\n",
        "  print(\"開始上傳11月的資料\")\n",
        "  df_nov = read_blob(11)\n",
        "  df_nov.to_csv(\"/tmp/\"+\"google_ecom_data_renew_202011.csv\", index=False)\n",
        "  upload_blob(\"line_project_2022\", \"/tmp/\"+\"google_ecom_data_renew_202011.csv\", \"google_ecom_data_renew_202011.csv\")\n",
        "  print(\"上傳11月的資料完畢\")\n",
        "\n",
        "  print(\"開始上傳12月的資料\")\n",
        "  df_nov = read_blob(12)\n",
        "  df_nov.to_csv(\"/tmp/\"+\"google_ecom_data_renew_202012.csv\", index=False)\n",
        "  upload_blob(\"line_project_2022\", \"/tmp/\"+\"google_ecom_data_renew_202012.csv\", \"google_ecom_data_renew_202012.csv\")\n",
        "  print(\"上傳11月的資料完畢\")\n",
        "\n",
        "  print(\"開始上傳1月的資料\")\n",
        "  df_nov = read_blob(1)\n",
        "  df_nov.to_csv(\"/tmp/\"+\"google_ecom_data_renew_202101.csv\", index=False)\n",
        "  upload_blob(\"line_project_2022\", \"/tmp/\"+\"google_ecom_data_renew_202101.csv\", \"google_ecom_data_renew_202101.csv\")\n",
        "  print(\"上傳1月的資料完畢\")\n",
        "  \n",
        "  return \"OK\""
      ],
      "metadata": {
        "id": "3QiBSzyLk8iM"
      },
      "execution_count": 6,
      "outputs": []
    },
    {
      "cell_type": "code",
      "source": [
        "df_jan = read_blob(1)"
      ],
      "metadata": {
        "id": "vqXS4P2dmxB6",
        "colab": {
          "base_uri": "https://localhost:8080/"
        },
        "outputId": "0b997579-0bcb-4689-c73a-1bb44c2d550c"
      },
      "execution_count": 11,
      "outputs": [
        {
          "output_type": "stream",
          "name": "stdout",
          "text": [
            "開始讀20201101的檔案\n",
            "目前1月資料量有31272筆\n",
            "開始讀20201102的檔案\n",
            "目前1月資料量有79660筆\n",
            "開始讀20201103的檔案\n",
            "目前1月資料量有141332筆\n",
            "開始讀20201104的檔案\n",
            "目前1月資料量有193198筆\n",
            "開始讀20201105的檔案\n",
            "目前1月資料量有245150筆\n",
            "開始讀20201106的檔案\n",
            "目前1月資料量有294154筆\n",
            "開始讀20201107的檔案\n",
            "目前1月資料量有328463筆\n",
            "開始讀20201108的檔案\n",
            "目前1月資料量有358600筆\n",
            "開始讀20201109的檔案\n",
            "目前1月資料量有403356筆\n",
            "開始讀20201110的檔案\n",
            "目前1月資料量有454551筆\n",
            "開始讀20201111的檔案\n",
            "目前1月資料量有506492筆\n",
            "開始讀20201112的檔案\n",
            "目前1月資料量有555658筆\n",
            "開始讀20201113的檔案\n",
            "目前1月資料量有606016筆\n",
            "開始讀20201114的檔案\n",
            "目前1月資料量有640055筆\n",
            "開始讀20201115的檔案\n",
            "目前1月資料量有671250筆\n",
            "開始讀20201116的檔案\n",
            "目前1月資料量有720570筆\n",
            "開始讀20201117的檔案\n",
            "目前1月資料量有780359筆\n",
            "開始讀20201118的檔案\n",
            "目前1月資料量有835815筆\n",
            "開始讀20201119的檔案\n",
            "目前1月資料量有889747筆\n",
            "開始讀20201120的檔案\n",
            "目前1月資料量有947641筆\n",
            "開始讀20201121的檔案\n",
            "目前1月資料量有989621筆\n",
            "開始讀20201122的檔案\n",
            "目前1月資料量有1026067筆\n",
            "開始讀20201123的檔案\n",
            "目前1月資料量有1078911筆\n",
            "開始讀20201124的檔案\n",
            "目前1月資料量有1141882筆\n",
            "開始讀20201125的檔案\n",
            "目前1月資料量有1206351筆\n",
            "開始讀20201126的檔案\n",
            "目前1月資料量有1261032筆\n",
            "開始讀20201127的檔案\n",
            "目前1月資料量有1315286筆\n",
            "開始讀20201128的檔案\n",
            "目前1月資料量有1359929筆\n",
            "開始讀20201129的檔案\n",
            "目前1月資料量有1402098筆\n",
            "開始讀20201130的檔案\n",
            "目前1月資料量有1472712筆\n"
          ]
        }
      ]
    },
    {
      "cell_type": "code",
      "source": [
        "df_dec = read_blob(12)"
      ],
      "metadata": {
        "colab": {
          "base_uri": "https://localhost:8080/"
        },
        "id": "kAzrN2-rmw0G",
        "outputId": "ca883bc8-8829-4bcf-e17a-d35334f84e07"
      },
      "execution_count": null,
      "outputs": [
        {
          "output_type": "stream",
          "name": "stdout",
          "text": [
            "開始讀20201201的檔案\n",
            "目前12月資料量有71804筆\n",
            "開始讀20201202的檔案\n",
            "目前12月資料量有138636筆\n",
            "開始讀20201203的檔案\n",
            "目前12月資料量有210325筆\n",
            "開始讀20201204的檔案\n",
            "目前12月資料量有279718筆\n",
            "開始讀20201205的檔案\n",
            "目前12月資料量有329246筆\n",
            "開始讀20201206的檔案\n",
            "目前12月資料量有372074筆\n",
            "開始讀20201207的檔案\n",
            "目前12月資料量有443706筆\n",
            "開始讀20201208的檔案\n",
            "目前12月資料量有535905筆\n",
            "開始讀20201209的檔案\n",
            "目前12月資料量有618220筆\n",
            "開始讀20201210的檔案\n",
            "目前12月資料量有699075筆\n",
            "開始讀20201211的檔案\n",
            "目前12月資料量有774855筆\n",
            "開始讀20201212的檔案\n",
            "目前12月資料量有831001筆\n",
            "開始讀20201213的檔案\n",
            "目前12月資料量有877887筆\n",
            "開始讀20201214的檔案\n",
            "目前12月資料量有943969筆\n",
            "開始讀20201215的檔案\n",
            "目前12月資料量有1016743筆\n",
            "開始讀20201216的檔案\n",
            "目前12月資料量有1084240筆\n",
            "開始讀20201217的檔案\n",
            "目前12月資料量有1148127筆\n",
            "開始讀20201218的檔案\n",
            "目前12月資料量有1204869筆\n",
            "開始讀20201219的檔案\n",
            "目前12月資料量有1242211筆\n",
            "開始讀20201220的檔案\n",
            "目前12月資料量有1272282筆\n",
            "開始讀20201221的檔案\n",
            "目前12月資料量有1314905筆\n",
            "開始讀20201222的檔案\n",
            "目前12月資料量有1359424筆\n",
            "開始讀20201223的檔案\n",
            "目前12月資料量有1399464筆\n",
            "開始讀20201224的檔案\n",
            "目前12月資料量有1425603筆\n",
            "開始讀20201225的檔案\n",
            "目前12月資料量有1446958筆\n",
            "開始讀20201226的檔案\n",
            "目前12月資料量有1469079筆\n",
            "開始讀20201227的檔案\n",
            "目前12月資料量有1491575筆\n",
            "開始讀20201228的檔案\n",
            "目前12月資料量有1524151筆\n",
            "開始讀20201229的檔案\n",
            "目前12月資料量有1558126筆\n",
            "開始讀20201230的檔案\n",
            "目前12月資料量有1588188筆\n",
            "開始讀20201231的檔案\n",
            "目前12月資料量有1612725筆\n"
          ]
        }
      ]
    },
    {
      "cell_type": "code",
      "source": [
        "df_nov = read_blob(11)"
      ],
      "metadata": {
        "colab": {
          "base_uri": "https://localhost:8080/"
        },
        "id": "0ud6ME3Yk8f2",
        "outputId": "2f619ac2-7afb-4f10-af5c-cec95fc068aa"
      },
      "execution_count": null,
      "outputs": [
        {
          "output_type": "stream",
          "name": "stdout",
          "text": [
            "開始讀20201101的檔案\n",
            "目前11月資料量有31272筆\n",
            "開始讀20201102的檔案\n",
            "目前11月資料量有79660筆\n",
            "開始讀20201103的檔案\n",
            "目前11月資料量有141332筆\n",
            "開始讀20201104的檔案\n",
            "目前11月資料量有193198筆\n",
            "開始讀20201105的檔案\n",
            "目前11月資料量有245150筆\n",
            "開始讀20201106的檔案\n",
            "目前11月資料量有294154筆\n",
            "開始讀20201107的檔案\n",
            "目前11月資料量有328463筆\n",
            "開始讀20201108的檔案\n",
            "目前11月資料量有358600筆\n",
            "開始讀20201109的檔案\n",
            "目前11月資料量有403356筆\n",
            "開始讀20201110的檔案\n",
            "目前11月資料量有454551筆\n",
            "開始讀20201111的檔案\n",
            "目前11月資料量有506492筆\n",
            "開始讀20201112的檔案\n",
            "目前11月資料量有555658筆\n",
            "開始讀20201113的檔案\n",
            "目前11月資料量有606016筆\n",
            "開始讀20201114的檔案\n",
            "目前11月資料量有640055筆\n",
            "開始讀20201115的檔案\n",
            "目前11月資料量有671250筆\n",
            "開始讀20201116的檔案\n",
            "目前11月資料量有720570筆\n",
            "開始讀20201117的檔案\n",
            "目前11月資料量有780359筆\n",
            "開始讀20201118的檔案\n",
            "目前11月資料量有835815筆\n",
            "開始讀20201119的檔案\n",
            "目前11月資料量有889747筆\n",
            "開始讀20201120的檔案\n",
            "目前11月資料量有947641筆\n",
            "開始讀20201121的檔案\n",
            "目前11月資料量有989621筆\n",
            "開始讀20201122的檔案\n",
            "目前11月資料量有1026067筆\n",
            "開始讀20201123的檔案\n",
            "目前11月資料量有1078911筆\n",
            "開始讀20201124的檔案\n",
            "目前11月資料量有1141882筆\n",
            "開始讀20201125的檔案\n",
            "目前11月資料量有1206351筆\n",
            "開始讀20201126的檔案\n",
            "目前11月資料量有1261032筆\n",
            "開始讀20201127的檔案\n",
            "目前11月資料量有1315286筆\n",
            "開始讀20201128的檔案\n",
            "目前11月資料量有1359929筆\n",
            "開始讀20201129的檔案\n",
            "目前11月資料量有1402098筆\n",
            "開始讀20201130的檔案\n",
            "目前11月資料量有1472712筆\n"
          ]
        }
      ]
    },
    {
      "cell_type": "code",
      "source": [
        "df_nov.to_csv(\"/tmp/\"+\"google_ecom_data_renew_202011.csv\", index=False)\n",
        "upload_blob(\"line_project_2022\", \"/tmp/\"+\"google_ecom_data_renew_202011.csv\", \"google_ecom_data_renew_202011.csv\")"
      ],
      "metadata": {
        "colab": {
          "base_uri": "https://localhost:8080/"
        },
        "id": "6jKe0yWEeEZn",
        "outputId": "b399ce97-ce01-40f2-dd37-e424b5241045"
      },
      "execution_count": null,
      "outputs": [
        {
          "output_type": "stream",
          "name": "stdout",
          "text": [
            "File /tmp/google_ecom_data_renew_202011.csv uploaded to google_ecom_data_renew_202011.csv.\n"
          ]
        }
      ]
    },
    {
      "cell_type": "code",
      "source": [
        "df_dec.to_csv(\"/tmp/\"+\"google_ecom_data_renew_202012.csv\", index=False)\n",
        "upload_blob(\"line_project_2022\", \"/tmp/\"+\"google_ecom_data_renew_202012.csv\", \"google_ecom_data_renew_202012.csv\")"
      ],
      "metadata": {
        "colab": {
          "base_uri": "https://localhost:8080/"
        },
        "id": "YtJCaa9_eEeg",
        "outputId": "6f1a3b72-44eb-4753-b24a-49c05fca6990"
      },
      "execution_count": null,
      "outputs": [
        {
          "output_type": "stream",
          "name": "stdout",
          "text": [
            "File /tmp/google_ecom_data_renew_202012.csv uploaded to google_ecom_data_renew_202012.csv.\n"
          ]
        }
      ]
    },
    {
      "cell_type": "code",
      "source": [
        "df_jan.to_csv(\"/tmp/\"+\"google_ecom_data_renew_202101.csv\", index=False)\n",
        "upload_blob(\"line_project_2022\", \"/tmp/\"+\"google_ecom_data_renew_202101.csv\", \"google_ecom_data_renew_202101.csv\")"
      ],
      "metadata": {
        "id": "JwwYn3B7qdeK",
        "colab": {
          "base_uri": "https://localhost:8080/"
        },
        "outputId": "0bee9579-0e83-4c00-fb32-dbad060ea74f"
      },
      "execution_count": 12,
      "outputs": [
        {
          "output_type": "stream",
          "name": "stdout",
          "text": [
            "File /tmp/google_ecom_data_renew_202101.csv uploaded to google_ecom_data_renew_202101.csv.\n"
          ]
        }
      ]
    },
    {
      "cell_type": "code",
      "source": [
        ""
      ],
      "metadata": {
        "id": "wX-jvnwAqdg6"
      },
      "execution_count": null,
      "outputs": []
    },
    {
      "cell_type": "code",
      "source": [
        ""
      ],
      "metadata": {
        "id": "l_Jh8exYqdj7"
      },
      "execution_count": null,
      "outputs": []
    },
    {
      "cell_type": "code",
      "source": [
        ""
      ],
      "metadata": {
        "id": "6bWQ-zsfqdmX"
      },
      "execution_count": null,
      "outputs": []
    },
    {
      "cell_type": "code",
      "source": [
        "df.to_csv('test_data.csv') \n",
        "files.download('test_data.csv')"
      ],
      "metadata": {
        "colab": {
          "base_uri": "https://localhost:8080/",
          "height": 34
        },
        "id": "5cfwzCXLC4HF",
        "outputId": "4fd84ff0-7cae-45d1-f669-a6a6fcb5d04b"
      },
      "execution_count": null,
      "outputs": [
        {
          "output_type": "display_data",
          "data": {
            "text/plain": [
              "<IPython.core.display.Javascript object>"
            ],
            "application/javascript": [
              "\n",
              "    async function download(id, filename, size) {\n",
              "      if (!google.colab.kernel.accessAllowed) {\n",
              "        return;\n",
              "      }\n",
              "      const div = document.createElement('div');\n",
              "      const label = document.createElement('label');\n",
              "      label.textContent = `Downloading \"${filename}\": `;\n",
              "      div.appendChild(label);\n",
              "      const progress = document.createElement('progress');\n",
              "      progress.max = size;\n",
              "      div.appendChild(progress);\n",
              "      document.body.appendChild(div);\n",
              "\n",
              "      const buffers = [];\n",
              "      let downloaded = 0;\n",
              "\n",
              "      const channel = await google.colab.kernel.comms.open(id);\n",
              "      // Send a message to notify the kernel that we're ready.\n",
              "      channel.send({})\n",
              "\n",
              "      for await (const message of channel.messages) {\n",
              "        // Send a message to notify the kernel that we're ready.\n",
              "        channel.send({})\n",
              "        if (message.buffers) {\n",
              "          for (const buffer of message.buffers) {\n",
              "            buffers.push(buffer);\n",
              "            downloaded += buffer.byteLength;\n",
              "            progress.value = downloaded;\n",
              "          }\n",
              "        }\n",
              "      }\n",
              "      const blob = new Blob(buffers, {type: 'application/binary'});\n",
              "      const a = document.createElement('a');\n",
              "      a.href = window.URL.createObjectURL(blob);\n",
              "      a.download = filename;\n",
              "      div.appendChild(a);\n",
              "      a.click();\n",
              "      div.remove();\n",
              "    }\n",
              "  "
            ]
          },
          "metadata": {}
        },
        {
          "output_type": "display_data",
          "data": {
            "text/plain": [
              "<IPython.core.display.Javascript object>"
            ],
            "application/javascript": [
              "download(\"download_3729845c-a0ad-400d-a635-00c90f49e400\", \"test_data.csv\", 14719842)"
            ]
          },
          "metadata": {}
        }
      ]
    },
    {
      "cell_type": "code",
      "source": [
        "df.shape"
      ],
      "metadata": {
        "colab": {
          "base_uri": "https://localhost:8080/"
        },
        "id": "dgCxg2ll_enj",
        "outputId": "c3877e52-69aa-47b8-8159-0d5472189c3b"
      },
      "execution_count": null,
      "outputs": [
        {
          "output_type": "execute_result",
          "data": {
            "text/plain": [
              "(3338, 23)"
            ]
          },
          "metadata": {},
          "execution_count": 9
        }
      ]
    }
  ]
}