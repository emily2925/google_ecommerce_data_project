{
  "nbformat": 4,
  "nbformat_minor": 0,
  "metadata": {
    "colab": {
      "name": "try_query.ipynb",
      "provenance": [],
      "collapsed_sections": [],
      "authorship_tag": "ABX9TyN56O59reW9owqSmxpsEpoi",
      "include_colab_link": true
    },
    "kernelspec": {
      "name": "python3",
      "display_name": "Python 3"
    },
    "language_info": {
      "name": "python"
    }
  },
  "cells": [
    {
      "cell_type": "markdown",
      "metadata": {
        "id": "view-in-github",
        "colab_type": "text"
      },
      "source": [
        "<a href=\"https://colab.research.google.com/github/emily2925/google_ecommerce_data_project/blob/main/try_query.ipynb\" target=\"_parent\"><img src=\"https://colab.research.google.com/assets/colab-badge.svg\" alt=\"Open In Colab\"/></a>"
      ]
    },
    {
      "cell_type": "code",
      "source": [
        "from google.colab import auth\n",
        "auth.authenticate_user()"
      ],
      "metadata": {
        "id": "Fl0lfaq-nQCR"
      },
      "execution_count": null,
      "outputs": []
    },
    {
      "cell_type": "code",
      "execution_count": null,
      "metadata": {
        "id": "hBpSHunSj5pW"
      },
      "outputs": [],
      "source": [
        "from google.cloud import bigquery\n",
        "\n",
        "def try_query():\n",
        "  # Construct a BigQuery client object.\n",
        "  project_id = 'handy-woodland-350614'\n",
        "  client = bigquery.Client(project=project_id)\n",
        "\n",
        "  query = \"\"\"\n",
        "    SELECT *\n",
        "    FROM `bigquery-public-data.ga4_obfuscated_sample_ecommerce.events_20210131`\n",
        "    limit 10\n",
        "  \"\"\"\n",
        "  query_job = client.query(query)  # Make an API request.\n",
        "\n",
        "  print(\"The query data:\")\n",
        "  df = query_job.to_dataframe()\n",
        "  print(df)"
      ]
    },
    {
      "cell_type": "code",
      "source": [
        "try_query()"
      ],
      "metadata": {
        "colab": {
          "base_uri": "https://localhost:8080/"
        },
        "id": "sP9OPa-pldEd",
        "outputId": "22a01abb-083b-488e-e7eb-5595322a4b0e"
      },
      "execution_count": null,
      "outputs": [
        {
          "output_type": "stream",
          "name": "stdout",
          "text": [
            "The query data:\n",
            "  event_date   event_timestamp       event_name  \\\n",
            "0   20210131  1612069510766593        page_view   \n",
            "1   20210131  1612069529243877           scroll   \n",
            "2   20210131  1612069515781635        page_view   \n",
            "3   20210131  1612069530073506  user_engagement   \n",
            "4   20210131  1612069510766593    session_start   \n",
            "5   20210131  1612069510766593      first_visit   \n",
            "6   20210131  1612111667188347    session_start   \n",
            "7   20210131  1612111667188347      first_visit   \n",
            "8   20210131  1612111672202517        page_view   \n",
            "9   20210131  1612111667188347        page_view   \n",
            "\n",
            "                                        event_params event_previous_timestamp  \\\n",
            "0  [{'key': 'gclid', 'value': {'string_value': No...                     None   \n",
            "1  [{'key': 'debug_mode', 'value': {'string_value...                     None   \n",
            "2  [{'key': 'debug_mode', 'value': {'string_value...                     None   \n",
            "3  [{'key': 'page_location', 'value': {'string_va...                     None   \n",
            "4  [{'key': 'ga_session_number', 'value': {'strin...                     None   \n",
            "5  [{'key': 'engaged_session_event', 'value': {'s...                     None   \n",
            "6  [{'key': 'engaged_session_event', 'value': {'s...                     None   \n",
            "7  [{'key': 'engaged_session_event', 'value': {'s...                     None   \n",
            "8  [{'key': 'ga_session_number', 'value': {'strin...                     None   \n",
            "9  [{'key': 'all_data', 'value': {'string_value':...                     None   \n",
            "\n",
            "  event_value_in_usd  event_bundle_sequence_id event_server_timestamp_offset  \\\n",
            "0               None                6595101026                          None   \n",
            "1               None                9011338476                          None   \n",
            "2               None               -6830522854                          None   \n",
            "3               None               -8264942910                          None   \n",
            "4               None                6595101026                          None   \n",
            "5               None                6595101026                          None   \n",
            "6               None               -2377566162                          None   \n",
            "7               None               -2377566162                          None   \n",
            "8               None                2958840217                          None   \n",
            "9               None               -2377566162                          None   \n",
            "\n",
            "  user_id      user_pseudo_id  ...                             user_ltv  \\\n",
            "0    None  1026454.4271112504  ...  {'revenue': 0.0, 'currency': 'USD'}   \n",
            "1    None  1026454.4271112504  ...  {'revenue': 0.0, 'currency': 'USD'}   \n",
            "2    None  1026454.4271112504  ...  {'revenue': 0.0, 'currency': 'USD'}   \n",
            "3    None  1026454.4271112504  ...  {'revenue': 0.0, 'currency': 'USD'}   \n",
            "4    None  1026454.4271112504  ...  {'revenue': 0.0, 'currency': 'USD'}   \n",
            "5    None  1026454.4271112504  ...  {'revenue': 0.0, 'currency': 'USD'}   \n",
            "6    None  1029692.9551304564  ...  {'revenue': 0.0, 'currency': 'USD'}   \n",
            "7    None  1029692.9551304564  ...  {'revenue': 0.0, 'currency': 'USD'}   \n",
            "8    None  1029692.9551304564  ...  {'revenue': 0.0, 'currency': 'USD'}   \n",
            "9    None  1029692.9551304564  ...  {'revenue': 0.0, 'currency': 'USD'}   \n",
            "\n",
            "                                              device  \\\n",
            "0  {'category': 'mobile', 'mobile_brand_name': 'A...   \n",
            "1  {'category': 'mobile', 'mobile_brand_name': 'A...   \n",
            "2  {'category': 'mobile', 'mobile_brand_name': 'A...   \n",
            "3  {'category': 'mobile', 'mobile_brand_name': 'A...   \n",
            "4  {'category': 'mobile', 'mobile_brand_name': 'A...   \n",
            "5  {'category': 'mobile', 'mobile_brand_name': 'A...   \n",
            "6  {'category': 'mobile', 'mobile_brand_name': 'A...   \n",
            "7  {'category': 'mobile', 'mobile_brand_name': 'A...   \n",
            "8  {'category': 'mobile', 'mobile_brand_name': 'A...   \n",
            "9  {'category': 'mobile', 'mobile_brand_name': 'A...   \n",
            "\n",
            "                                                 geo app_info  \\\n",
            "0  {'continent': 'Americas', 'sub_continent': 'No...     None   \n",
            "1  {'continent': 'Americas', 'sub_continent': 'No...     None   \n",
            "2  {'continent': 'Americas', 'sub_continent': 'No...     None   \n",
            "3  {'continent': 'Americas', 'sub_continent': 'No...     None   \n",
            "4  {'continent': 'Americas', 'sub_continent': 'No...     None   \n",
            "5  {'continent': 'Americas', 'sub_continent': 'No...     None   \n",
            "6  {'continent': 'Americas', 'sub_continent': 'No...     None   \n",
            "7  {'continent': 'Americas', 'sub_continent': 'No...     None   \n",
            "8  {'continent': 'Americas', 'sub_continent': 'No...     None   \n",
            "9  {'continent': 'Americas', 'sub_continent': 'No...     None   \n",
            "\n",
            "                                      traffic_source   stream_id platform  \\\n",
            "0  {'medium': 'organic', 'name': '(organic)', 'so...  2100450278      WEB   \n",
            "1  {'medium': 'organic', 'name': '(organic)', 'so...  2100450278      WEB   \n",
            "2  {'medium': 'organic', 'name': '(organic)', 'so...  2100450278      WEB   \n",
            "3  {'medium': 'organic', 'name': '(organic)', 'so...  2100450278      WEB   \n",
            "4  {'medium': 'organic', 'name': '(organic)', 'so...  2100450278      WEB   \n",
            "5  {'medium': 'organic', 'name': '(organic)', 'so...  2100450278      WEB   \n",
            "6  {'medium': 'organic', 'name': '(organic)', 'so...  2100450278      WEB   \n",
            "7  {'medium': 'organic', 'name': '(organic)', 'so...  2100450278      WEB   \n",
            "8  {'medium': 'organic', 'name': '(organic)', 'so...  2100450278      WEB   \n",
            "9  {'medium': 'organic', 'name': '(organic)', 'so...  2100450278      WEB   \n",
            "\n",
            "  event_dimensions                                          ecommerce items  \n",
            "0             None  {'total_item_quantity': None, 'purchase_revenu...    []  \n",
            "1             None  {'total_item_quantity': None, 'purchase_revenu...    []  \n",
            "2             None  {'total_item_quantity': None, 'purchase_revenu...    []  \n",
            "3             None  {'total_item_quantity': None, 'purchase_revenu...    []  \n",
            "4             None  {'total_item_quantity': None, 'purchase_revenu...    []  \n",
            "5             None  {'total_item_quantity': None, 'purchase_revenu...    []  \n",
            "6             None  {'total_item_quantity': None, 'purchase_revenu...    []  \n",
            "7             None  {'total_item_quantity': None, 'purchase_revenu...    []  \n",
            "8             None  {'total_item_quantity': None, 'purchase_revenu...    []  \n",
            "9             None  {'total_item_quantity': None, 'purchase_revenu...    []  \n",
            "\n",
            "[10 rows x 23 columns]\n"
          ]
        }
      ]
    }
  ]
}